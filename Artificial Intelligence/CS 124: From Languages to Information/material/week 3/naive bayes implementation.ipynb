{
 "cells": [
  {
   "cell_type": "code",
   "execution_count": null,
   "metadata": {},
   "outputs": [],
   "source": []
  },
  {
   "cell_type": "markdown",
   "metadata": {},
   "source": [
    "link: https://web.stanford.edu/~jurafsky/slp3/4.pdf"
   ]
  },
  {
   "cell_type": "code",
   "execution_count": 46,
   "metadata": {},
   "outputs": [],
   "source": [
    "D_ = {\n",
    "    '-' : [\n",
    "            'just plain boring',\n",
    "            'entirely predictable and lacks energy',\n",
    "            'no surprises and very few laughs'\n",
    "    ],\n",
    "        '+' : [\n",
    "            'very powerful',\n",
    "            'most fun film of the summer'\n",
    "        ]\n",
    "}\n",
    "C_ = ['+', '-']\n",
    "testdoc_ = 'predictable with no fun'\n"
   ]
  },
  {
   "cell_type": "code",
   "execution_count": 41,
   "metadata": {},
   "outputs": [],
   "source": [
    "import math\n",
    "\n",
    "def TRAIN_NAIVE_BAYES(D : {}, C: []):\n",
    "    '''\n",
    "    D : document\n",
    "    D : {\n",
    "        '-' : {\n",
    "            just plain boring\n",
    "            entirely predictable and lacks energy\n",
    "            no surprises and very few laughs\n",
    "        },\n",
    "        '+' : {\n",
    "            very powerful\n",
    "            most fun film of the summer\n",
    "        }\n",
    "    }\n",
    "    C: class\n",
    "    C : ['+', '-']\n",
    "    '''\n",
    "    \n",
    "    # =number of documents in D\n",
    "    N_doc = sum([len(value) for key,value in D.items()])\n",
    "    \n",
    "\n",
    "    # V vocabulary of D\n",
    "    V = []\n",
    "    for key, value in D.items():\n",
    "        for line in value:\n",
    "            V.extend(line.split(' '))\n",
    "            pass\n",
    "        \n",
    "        pass\n",
    "    V = list(set(V))\n",
    "\n",
    "    logprior = {}\n",
    "    bigdoc = {}\n",
    "    loglikelihood = {}\n",
    "    for c in C:\n",
    "        # =number of documents from D in class c\n",
    "        N_c = len(D[c])\n",
    "        logprior[c] =  math.log(N_c / N_doc, math.e)\n",
    "        #  bigdoc[c] append(d) for d in D with class c\n",
    "        bigdoc[c] = []\n",
    "        for item in D[c]:\n",
    "            bigdoc[c].extend(item.split(' '))\n",
    "            pass\n",
    "        for w in V:\n",
    "            # count(w,c) #of occurrences of w in bigdoc[c]\n",
    "            counting = sum([1 if w == x else 0 for x in bigdoc[c]])\n",
    "            loglikelihood[(w,c)] = math.log((counting + 1) / (len(bigdoc[c]) + len(V)), math.e)\n",
    "            #loglikelihood[(w,c)] = (counting + 1) / (len(bigdoc[c]) + len(V))\n",
    "            pass    \n",
    "        pass\n",
    "    return logprior, loglikelihood, V"
   ]
  },
  {
   "cell_type": "code",
   "execution_count": 42,
   "metadata": {},
   "outputs": [],
   "source": [
    "logprior_, loglikelihood_, V_ = TRAIN_NAIVE_BAYES(D_, C_)\n"
   ]
  },
  {
   "cell_type": "code",
   "execution_count": 43,
   "metadata": {},
   "outputs": [
    {
     "data": {
      "text/plain": [
       "{'+': -0.916290731874155, '-': -0.5108256237659907}"
      ]
     },
     "execution_count": 43,
     "metadata": {},
     "output_type": "execute_result"
    }
   ],
   "source": [
    "logprior_"
   ]
  },
  {
   "cell_type": "code",
   "execution_count": 44,
   "metadata": {},
   "outputs": [
    {
     "data": {
      "text/plain": [
       "-2.833213344056216"
      ]
     },
     "execution_count": 44,
     "metadata": {},
     "output_type": "execute_result"
    }
   ],
   "source": [
    "loglikelihood_[('predictable', '-')]"
   ]
  },
  {
   "cell_type": "code",
   "execution_count": 45,
   "metadata": {},
   "outputs": [],
   "source": [
    "def TEST_NAIVE_BAYES(testdoc : str,logprior : {},\n",
    "                     loglikelihood: {},C : [],V : []):\n",
    "     \n",
    "     sums = {}\n",
    "     # foreach class c in C\n",
    "     for c in C:\n",
    "        sums[c] = logprior[c]\n",
    "        # foreach position i in testdoc\n",
    "        for word in testdoc.split(' '):\n",
    "           if word in V:\n",
    "              sums[c] = sums[c] + loglikelihood[(word, c)]\n",
    "              pass\n",
    "           pass\n",
    "        pass\n",
    "     return sums"
   ]
  },
  {
   "cell_type": "code",
   "execution_count": 48,
   "metadata": {},
   "outputs": [],
   "source": [
    "result =TEST_NAIVE_BAYES(testdoc_, logprior_, loglikelihood_, C_, V_)"
   ]
  },
  {
   "cell_type": "code",
   "execution_count": 51,
   "metadata": {},
   "outputs": [
    {
     "name": "stdout",
     "output_type": "stream",
     "text": [
      "+ : 3.644314868804665e-05\n",
      "- : 6.106248727864841e-05\n"
     ]
    }
   ],
   "source": [
    "for key,value in result.items():\n",
    "    print(f'{key} : {math.exp(value)}')\n",
    "    pass"
   ]
  },
  {
   "cell_type": "code",
   "execution_count": null,
   "metadata": {},
   "outputs": [],
   "source": []
  }
 ],
 "metadata": {
  "kernelspec": {
   "display_name": "Python 3",
   "language": "python",
   "name": "python3"
  },
  "language_info": {
   "codemirror_mode": {
    "name": "ipython",
    "version": 3
   },
   "file_extension": ".py",
   "mimetype": "text/x-python",
   "name": "python",
   "nbconvert_exporter": "python",
   "pygments_lexer": "ipython3",
   "version": "3.9.19"
  }
 },
 "nbformat": 4,
 "nbformat_minor": 2
}
