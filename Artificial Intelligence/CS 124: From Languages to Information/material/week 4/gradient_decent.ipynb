{
 "cells": [
  {
   "cell_type": "markdown",
   "metadata": {},
   "source": [
    "https://web.stanford.edu/~jurafsky/slp3/5.pdf\n",
    "\n",
    " 5.6.3 Working through an example"
   ]
  },
  {
   "cell_type": "code",
   "execution_count": 27,
   "metadata": {},
   "outputs": [],
   "source": [
    "import numpy as np\n",
    "# input and output\n",
    "y = 1\n",
    "x1 = 3\n",
    "x2 = 2\n",
    "x = np.array ([x1, x2])\n",
    "\n",
    "# paramenters\n",
    "w1 = w2 = b = 0\n",
    "w = np.array ([0, 0])\n",
    "\n",
    "# hyperparamenter\n",
    "n = 0.1\n",
    "\n",
    "theta = np.array([w1, w2, b])"
   ]
  },
  {
   "cell_type": "code",
   "execution_count": 28,
   "metadata": {},
   "outputs": [
    {
     "data": {
      "text/plain": [
       "array([0.15, 0.1 , 0.05])"
      ]
     },
     "execution_count": 28,
     "metadata": {},
     "output_type": "execute_result"
    }
   ],
   "source": [
    "z = w @ x + b\n",
    "y_hat = 1.0 / (1.0 + np.exp(-z))\n",
    "D_L_CE = [\n",
    "    (y_hat - y)* x1,\n",
    "    (y_hat - y) * x2,\n",
    "    (y_hat - y)\n",
    "]\n",
    "\n",
    "theta = theta - np.multiply(n, D_L_CE)\n",
    "\n",
    "theta\n"
   ]
  },
  {
   "cell_type": "code",
   "execution_count": null,
   "metadata": {},
   "outputs": [],
   "source": []
  }
 ],
 "metadata": {
  "kernelspec": {
   "display_name": "Python 3",
   "language": "python",
   "name": "python3"
  },
  "language_info": {
   "codemirror_mode": {
    "name": "ipython",
    "version": 3
   },
   "file_extension": ".py",
   "mimetype": "text/x-python",
   "name": "python",
   "nbconvert_exporter": "python",
   "pygments_lexer": "ipython3",
   "version": "3.9.19"
  }
 },
 "nbformat": 4,
 "nbformat_minor": 2
}
