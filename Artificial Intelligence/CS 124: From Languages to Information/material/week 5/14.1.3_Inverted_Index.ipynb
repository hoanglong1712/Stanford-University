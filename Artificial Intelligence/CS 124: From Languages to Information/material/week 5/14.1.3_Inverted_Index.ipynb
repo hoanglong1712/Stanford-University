{
 "cells": [
  {
   "cell_type": "code",
   "execution_count": 1,
   "metadata": {},
   "outputs": [],
   "source": [
    "doc_1 = 'sweet sweet nurse love'\n",
    "doc_2 = 'sweet sorrow'\n",
    "doc_3 = 'how sweet is love'\n",
    "doc_4 = 'nurse'\n",
    "docs = [doc_1, doc_2, doc_3, doc_4]"
   ]
  },
  {
   "cell_type": "code",
   "execution_count": 10,
   "metadata": {},
   "outputs": [
    {
     "data": {
      "text/plain": [
       "{'sweet': [3, {1: 2, 2: 1, 3: 1}],\n",
       " 'nurse': [2, {1: 1, 4: 1}],\n",
       " 'love': [2, {1: 1, 3: 1}],\n",
       " 'sorrow': [1, {2: 1}],\n",
       " 'how': [1, {3: 1}],\n",
       " 'is': [1, {3: 1}]}"
      ]
     },
     "execution_count": 10,
     "metadata": {},
     "output_type": "execute_result"
    }
   ],
   "source": [
    "result = {}\n",
    "index = 1\n",
    "for doc in docs:    \n",
    "    for word in doc.split(' '):\n",
    "        if word in result.keys():                        \n",
    "            posting_list = result[word][1]\n",
    "            if index in posting_list:\n",
    "                posting_list[index] += 1\n",
    "                pass\n",
    "            else:\n",
    "                result[word][0] = result[word][0] + 1\n",
    "                posting_list[index] = 1\n",
    "                pass\n",
    "            pass\n",
    "        else:\n",
    "            result[word] = [1, {index: 1}]\n",
    "            pass             \n",
    "        pass\n",
    "    index += 1\n",
    "    pass\n",
    "result"
   ]
  },
  {
   "cell_type": "code",
   "execution_count": null,
   "metadata": {},
   "outputs": [],
   "source": []
  }
 ],
 "metadata": {
  "kernelspec": {
   "display_name": "Python 3",
   "language": "python",
   "name": "python3"
  },
  "language_info": {
   "codemirror_mode": {
    "name": "ipython",
    "version": 3
   },
   "file_extension": ".py",
   "mimetype": "text/x-python",
   "name": "python",
   "nbconvert_exporter": "python",
   "pygments_lexer": "ipython3",
   "version": "3.9.4"
  },
  "orig_nbformat": 4
 },
 "nbformat": 4,
 "nbformat_minor": 2
}
