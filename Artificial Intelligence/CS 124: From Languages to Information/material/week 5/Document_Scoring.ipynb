{
 "cells": [
  {
   "cell_type": "markdown",
   "metadata": {},
   "source": [
    "https://web.stanford.edu/~jurafsky/slp3/14.pdf\n",
    "\n",
    "14.1.2 Document Scoring\n",
    "\n"
   ]
  },
  {
   "cell_type": "code",
   "execution_count": 68,
   "metadata": {},
   "outputs": [],
   "source": [
    "query = 'sweet love'\n",
    "doc_1 = 'sweet sweet nurse love'\n",
    "doc_2 = 'sweet sorrow'\n",
    "doc_3 = 'how sweet is love'\n",
    "doc_4 = 'nurse'\n",
    "docs = [doc_1, doc_2, doc_3, doc_4]"
   ]
  },
  {
   "cell_type": "code",
   "execution_count": 69,
   "metadata": {},
   "outputs": [
    {
     "data": {
      "text/plain": [
       "{'nurse': 2, 'sweet': 3, 'love': 2, 'sorrow': 1, 'how': 1, 'is': 1}"
      ]
     },
     "execution_count": 69,
     "metadata": {},
     "output_type": "execute_result"
    }
   ],
   "source": [
    "df = {}\n",
    "for doc in docs:\n",
    "    word_set = set(doc.split(' '))\n",
    "    for word in word_set:\n",
    "        if word in df.keys():\n",
    "            df[word] += 1\n",
    "            pass\n",
    "        else:\n",
    "            df[word] = 1\n",
    "            pass\n",
    "        pass\n",
    "    pass\n",
    "df "
   ]
  },
  {
   "cell_type": "code",
   "execution_count": 70,
   "metadata": {},
   "outputs": [],
   "source": [
    "import pandas as pd\n",
    "import math"
   ]
  },
  {
   "cell_type": "code",
   "execution_count": 81,
   "metadata": {},
   "outputs": [
    {
     "data": {
      "text/html": [
       "<div>\n",
       "<style scoped>\n",
       "    .dataframe tbody tr th:only-of-type {\n",
       "        vertical-align: middle;\n",
       "    }\n",
       "\n",
       "    .dataframe tbody tr th {\n",
       "        vertical-align: top;\n",
       "    }\n",
       "\n",
       "    .dataframe thead th {\n",
       "        text-align: right;\n",
       "    }\n",
       "</style>\n",
       "<table border=\"1\" class=\"dataframe\">\n",
       "  <thead>\n",
       "    <tr style=\"text-align: right;\">\n",
       "      <th></th>\n",
       "      <th>word</th>\n",
       "      <th>cnt</th>\n",
       "      <th>tf</th>\n",
       "      <th>df</th>\n",
       "      <th>idf</th>\n",
       "      <th>tf_idf</th>\n",
       "      <th>n'lized</th>\n",
       "    </tr>\n",
       "  </thead>\n",
       "  <tbody>\n",
       "    <tr>\n",
       "      <th>0</th>\n",
       "      <td>nurse</td>\n",
       "      <td>0</td>\n",
       "      <td>0.0</td>\n",
       "      <td>2</td>\n",
       "      <td>0.301030</td>\n",
       "      <td>0.000000</td>\n",
       "      <td>0.000000</td>\n",
       "    </tr>\n",
       "    <tr>\n",
       "      <th>1</th>\n",
       "      <td>sweet</td>\n",
       "      <td>1</td>\n",
       "      <td>1.0</td>\n",
       "      <td>3</td>\n",
       "      <td>0.124939</td>\n",
       "      <td>0.124939</td>\n",
       "      <td>0.383333</td>\n",
       "    </tr>\n",
       "    <tr>\n",
       "      <th>2</th>\n",
       "      <td>love</td>\n",
       "      <td>1</td>\n",
       "      <td>1.0</td>\n",
       "      <td>2</td>\n",
       "      <td>0.301030</td>\n",
       "      <td>0.301030</td>\n",
       "      <td>0.923610</td>\n",
       "    </tr>\n",
       "    <tr>\n",
       "      <th>3</th>\n",
       "      <td>sorrow</td>\n",
       "      <td>0</td>\n",
       "      <td>0.0</td>\n",
       "      <td>1</td>\n",
       "      <td>0.602060</td>\n",
       "      <td>0.000000</td>\n",
       "      <td>0.000000</td>\n",
       "    </tr>\n",
       "    <tr>\n",
       "      <th>4</th>\n",
       "      <td>how</td>\n",
       "      <td>0</td>\n",
       "      <td>0.0</td>\n",
       "      <td>1</td>\n",
       "      <td>0.602060</td>\n",
       "      <td>0.000000</td>\n",
       "      <td>0.000000</td>\n",
       "    </tr>\n",
       "    <tr>\n",
       "      <th>5</th>\n",
       "      <td>is</td>\n",
       "      <td>0</td>\n",
       "      <td>0.0</td>\n",
       "      <td>1</td>\n",
       "      <td>0.602060</td>\n",
       "      <td>0.000000</td>\n",
       "      <td>0.000000</td>\n",
       "    </tr>\n",
       "  </tbody>\n",
       "</table>\n",
       "</div>"
      ],
      "text/plain": [
       "     word  cnt   tf  df       idf    tf_idf   n'lized\n",
       "0   nurse    0  0.0   2  0.301030  0.000000  0.000000\n",
       "1   sweet    1  1.0   3  0.124939  0.124939  0.383333\n",
       "2    love    1  1.0   2  0.301030  0.301030  0.923610\n",
       "3  sorrow    0  0.0   1  0.602060  0.000000  0.000000\n",
       "4     how    0  0.0   1  0.602060  0.000000  0.000000\n",
       "5      is    0  0.0   1  0.602060  0.000000  0.000000"
      ]
     },
     "execution_count": 81,
     "metadata": {},
     "output_type": "execute_result"
    }
   ],
   "source": [
    "# query table\n",
    "\n",
    "query_list = query.split(' ')\n",
    "\n",
    "word = []\n",
    "cnt = []\n",
    "tf = []\n",
    "df_ = []\n",
    "idf = []\n",
    "tf_idf = []\n",
    "\n",
    "for key, value in df.items():\n",
    "    word.append(key)\n",
    "    df_.append(value)\n",
    "    df_t = sum(1 for y in query_list if key == y)\n",
    "    cnt.append(df_t)\n",
    "    tf_ = 1 + math.log10(df_t) if df_t > 0 else 0\n",
    "    tf.append(tf_)    \n",
    "    idf_ = math.log10(len(docs) / value)\n",
    "    idf.append(idf_)\n",
    "    tf_idf_ = tf_ * idf_\n",
    "    tf_idf.append(tf_idf_)\n",
    "    pass\n",
    "\n",
    "data = {\n",
    "    'word' : word,\n",
    "    'cnt' : cnt,\n",
    "    'tf' : tf,\n",
    "    'df': df_,\n",
    "    'idf' : idf,\n",
    "    'tf_idf': tf_idf\n",
    "}\n",
    "query_df = pd.DataFrame(data)\n",
    "abs_q = math.sqrt(query_df['tf_idf'].pow(2).sum()) # |q|\n",
    "query_df['n\\'lized'] = query_df['tf_idf'] / abs_q\n",
    "query_df"
   ]
  },
  {
   "cell_type": "code",
   "execution_count": 91,
   "metadata": {},
   "outputs": [],
   "source": [
    "def calculate(doc: str, q_df: pd.DataFrame) -> (pd.DataFrame, float):\n",
    "    word = []\n",
    "    cnt = []\n",
    "    tf = []\n",
    "    tf_idf = []\n",
    "    doc_list = doc.split(' ')\n",
    "\n",
    "    for key, value in df.items():\n",
    "        word.append(key)\n",
    "        df_t = sum(1 for y in doc_list if key == y)\n",
    "        cnt.append(df_t)\n",
    "        tf_ = 1 + math.log10(df_t) if df_t > 0 else 0\n",
    "        tf.append(tf_) \n",
    "        idf_ = math.log10(len(docs) / value)    \n",
    "        tf_idf_ = tf_ * idf_\n",
    "        tf_idf.append(tf_idf_)\n",
    "        pass\n",
    "\n",
    "    data = {\n",
    "        'word' : word,\n",
    "        'cnt' : cnt,\n",
    "        'tf' : tf,\n",
    "        'tf-idf': tf_idf\n",
    "    }\n",
    "    doc_df = pd.DataFrame(data)\n",
    "\n",
    "    abs_d_1 = math.sqrt(doc_df['tf-idf'].pow(2).sum()) # |d_1|\n",
    "    doc_df['n\\'lized'] = doc_df['tf-idf'] / abs_d_1\n",
    "    doc_df['x q'] = doc_df['n\\'lized'] * q_df['n\\'lized']\n",
    "\n",
    "    cosine = doc_df['x q'].sum()\n",
    "\n",
    "    return doc_df, cosine\n"
   ]
  },
  {
   "cell_type": "code",
   "execution_count": 93,
   "metadata": {},
   "outputs": [
    {
     "name": "stdout",
     "output_type": "stream",
     "text": [
      "Document 1\n",
      "(     word  cnt       tf    tf-idf   n'lized       x q\n",
      "0   nurse    1  1.00000  0.301030  0.660592  0.000000\n",
      "1   sweet    2  1.30103  0.162549  0.356704  0.136736\n",
      "2    love    1  1.00000  0.301030  0.660592  0.610129\n",
      "3  sorrow    0  0.00000  0.000000  0.000000  0.000000\n",
      "4     how    0  0.00000  0.000000  0.000000  0.000000\n",
      "5      is    0  0.00000  0.000000  0.000000  0.000000, 0.7468654211522301)\n"
     ]
    }
   ],
   "source": [
    "print(\"Document 1\")\n",
    "print(calculate(doc_1, query_df))"
   ]
  },
  {
   "cell_type": "code",
   "execution_count": 94,
   "metadata": {},
   "outputs": [
    {
     "name": "stdout",
     "output_type": "stream",
     "text": [
      "Document 2\n",
      "(     word  cnt   tf    tf-idf   n'lized       x q\n",
      "0   nurse    0  0.0  0.000000  0.000000  0.000000\n",
      "1   sweet    1  1.0  0.124939  0.203190  0.077889\n",
      "2    love    0  0.0  0.000000  0.000000  0.000000\n",
      "3  sorrow    1  1.0  0.602060  0.979139  0.000000\n",
      "4     how    0  0.0  0.000000  0.000000  0.000000\n",
      "5      is    0  0.0  0.000000  0.000000  0.000000, 0.07788932485528884)\n"
     ]
    }
   ],
   "source": [
    "print(\"Document 2\")\n",
    "print(calculate(doc_2, query_df))"
   ]
  },
  {
   "cell_type": "code",
   "execution_count": 96,
   "metadata": {},
   "outputs": [
    {
     "name": "stdout",
     "output_type": "stream",
     "text": [
      "Document 3\n",
      "(     word  cnt   tf    tf-idf   n'lized       x q\n",
      "0   nurse    0  0.0  0.000000  0.000000  0.000000\n",
      "1   sweet    1  1.0  0.124939  0.137041  0.052532\n",
      "2    love    1  1.0  0.301030  0.330188  0.304965\n",
      "3  sorrow    0  0.0  0.000000  0.000000  0.000000\n",
      "4     how    1  1.0  0.602060  0.660377  0.000000\n",
      "5      is    1  1.0  0.602060  0.660377  0.000000, 0.35749763139121166)\n",
      "Document 4\n",
      "(     word  cnt   tf   tf-idf  n'lized  x q\n",
      "0   nurse    1  1.0  0.30103      1.0  0.0\n",
      "1   sweet    0  0.0  0.00000      0.0  0.0\n",
      "2    love    0  0.0  0.00000      0.0  0.0\n",
      "3  sorrow    0  0.0  0.00000      0.0  0.0\n",
      "4     how    0  0.0  0.00000      0.0  0.0\n",
      "5      is    0  0.0  0.00000      0.0  0.0, 0.0)\n"
     ]
    }
   ],
   "source": [
    "print(\"Document 3\")\n",
    "print(calculate(doc_3, query_df))\n",
    "\n",
    "print(\"Document 4\")\n",
    "print(calculate(doc_4, query_df))"
   ]
  },
  {
   "cell_type": "code",
   "execution_count": null,
   "metadata": {},
   "outputs": [],
   "source": []
  }
 ],
 "metadata": {
  "kernelspec": {
   "display_name": "Python 3",
   "language": "python",
   "name": "python3"
  },
  "language_info": {
   "codemirror_mode": {
    "name": "ipython",
    "version": 3
   },
   "file_extension": ".py",
   "mimetype": "text/x-python",
   "name": "python",
   "nbconvert_exporter": "python",
   "pygments_lexer": "ipython3",
   "version": "3.9.4"
  },
  "orig_nbformat": 4
 },
 "nbformat": 4,
 "nbformat_minor": 2
}
