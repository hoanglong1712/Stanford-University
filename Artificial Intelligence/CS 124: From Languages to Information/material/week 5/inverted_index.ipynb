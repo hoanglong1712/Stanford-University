{
 "cells": [
  {
   "cell_type": "code",
   "execution_count": 3,
   "metadata": {},
   "outputs": [],
   "source": [
    "doc1 = \"I did enact Julius Caesar: I was killed i' the Capitol; Brutus killed me.\"\n",
    "doc2 = \"So let it be wirth Caesar. The noble Brutus hath told you Caesar was ambitious:\"\n",
    "docs = [doc1, doc2]"
   ]
  },
  {
   "cell_type": "code",
   "execution_count": 9,
   "metadata": {},
   "outputs": [
    {
     "name": "stdout",
     "output_type": "stream",
     "text": [
      "i did enact julius caesar i was killed i' the capitol brutus killed me\n",
      "so let it be wirth caesar the noble brutus hath told you caesar was ambitious\n"
     ]
    }
   ],
   "source": [
    "import re\n",
    "term_doc = {}\n",
    "\n",
    "\n",
    "for doc in docs:\n",
    "    lower_doc = doc.lower()\n",
    "    lower_doc = re.sub(r'[^\\w\\s\\']', '', lower_doc)    \n",
    "    words = lower_doc.split(' ')\n",
    "    for word in words:\n",
    "\n",
    "        pass \n",
    "    pass"
   ]
  },
  {
   "cell_type": "code",
   "execution_count": null,
   "metadata": {},
   "outputs": [],
   "source": []
  }
 ],
 "metadata": {
  "kernelspec": {
   "display_name": "Python 3",
   "language": "python",
   "name": "python3"
  },
  "language_info": {
   "codemirror_mode": {
    "name": "ipython",
    "version": 3
   },
   "file_extension": ".py",
   "mimetype": "text/x-python",
   "name": "python",
   "nbconvert_exporter": "python",
   "pygments_lexer": "ipython3",
   "version": "3.9.4"
  },
  "orig_nbformat": 4
 },
 "nbformat": 4,
 "nbformat_minor": 2
}
