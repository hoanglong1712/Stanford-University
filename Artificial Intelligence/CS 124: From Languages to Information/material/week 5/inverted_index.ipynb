{
 "cells": [
  {
   "cell_type": "code",
   "execution_count": 21,
   "metadata": {},
   "outputs": [],
   "source": [
    "doc1 = \"I did enact Julius Caesar: I was killed i' the Capitol; Brutus killed me.\"\n",
    "doc2 = \"So let it be with Caesar. The noble Brutus hath told you Caesar was ambitious:\"\n",
    "docs = [doc1, doc2]"
   ]
  },
  {
   "cell_type": "code",
   "execution_count": 22,
   "metadata": {},
   "outputs": [
    {
     "data": {
      "text/plain": [
       "[('i', 0),\n",
       " ('did', 0),\n",
       " ('enact', 0),\n",
       " ('julius', 0),\n",
       " ('caesar', 0),\n",
       " ('i', 0),\n",
       " ('was', 0),\n",
       " ('killed', 0),\n",
       " (\"i'\", 0),\n",
       " ('the', 0),\n",
       " ('capitol', 0),\n",
       " ('brutus', 0),\n",
       " ('killed', 0),\n",
       " ('me', 0),\n",
       " ('so', 1),\n",
       " ('let', 1),\n",
       " ('it', 1),\n",
       " ('be', 1),\n",
       " ('with', 1),\n",
       " ('caesar', 1),\n",
       " ('the', 1),\n",
       " ('noble', 1),\n",
       " ('brutus', 1),\n",
       " ('hath', 1),\n",
       " ('told', 1),\n",
       " ('you', 1),\n",
       " ('caesar', 1),\n",
       " ('was', 1),\n",
       " ('ambitious', 1)]"
      ]
     },
     "execution_count": 22,
     "metadata": {},
     "output_type": "execute_result"
    }
   ],
   "source": [
    "import re\n",
    "term_doc = {}\n",
    "phrase_1 = []\n",
    "\n",
    "i = 0\n",
    "for doc in docs:\n",
    "    lower_doc = doc.lower()\n",
    "    # remove all punctuations except '\n",
    "    lower_doc = re.sub(r'[^\\w\\s\\']', '', lower_doc)    \n",
    "    words = lower_doc.split(' ')\n",
    "    for word in words:\n",
    "        phrase_1.append((word, i))\n",
    "        pass \n",
    "    i += 1\n",
    "    pass\n",
    "phrase_1"
   ]
  },
  {
   "cell_type": "code",
   "execution_count": 23,
   "metadata": {},
   "outputs": [
    {
     "data": {
      "text/plain": [
       "[('ambitious', 1),\n",
       " ('be', 1),\n",
       " ('brutus', 0),\n",
       " ('brutus', 1),\n",
       " ('caesar', 0),\n",
       " ('caesar', 1),\n",
       " ('caesar', 1),\n",
       " ('capitol', 0),\n",
       " ('did', 0),\n",
       " ('enact', 0),\n",
       " ('hath', 1),\n",
       " ('i', 0),\n",
       " ('i', 0),\n",
       " (\"i'\", 0),\n",
       " ('it', 1),\n",
       " ('julius', 0),\n",
       " ('killed', 0),\n",
       " ('killed', 0),\n",
       " ('let', 1),\n",
       " ('me', 0),\n",
       " ('noble', 1),\n",
       " ('so', 1),\n",
       " ('the', 0),\n",
       " ('the', 1),\n",
       " ('told', 1),\n",
       " ('was', 0),\n",
       " ('was', 1),\n",
       " ('with', 1),\n",
       " ('you', 1)]"
      ]
     },
     "execution_count": 23,
     "metadata": {},
     "output_type": "execute_result"
    }
   ],
   "source": [
    "phrase_2 = sorted(phrase_1, key=lambda x: x[0])\n",
    "phrase_2"
   ]
  },
  {
   "cell_type": "code",
   "execution_count": 24,
   "metadata": {},
   "outputs": [
    {
     "data": {
      "text/plain": [
       "{'ambitious': (1, [1]),\n",
       " 'be': (1, [1]),\n",
       " 'brutus': (2, [0, 1]),\n",
       " 'caesar': (2, [0, 1]),\n",
       " 'capitol': (1, [0]),\n",
       " 'did': (1, [0]),\n",
       " 'enact': (1, [0]),\n",
       " 'hath': (1, [1]),\n",
       " 'i': (1, [0]),\n",
       " \"i'\": (1, [0]),\n",
       " 'it': (1, [1]),\n",
       " 'julius': (1, [0]),\n",
       " 'killed': (1, [0]),\n",
       " 'let': (1, [1]),\n",
       " 'me': (1, [0]),\n",
       " 'noble': (1, [1]),\n",
       " 'so': (1, [1]),\n",
       " 'the': (2, [0, 1]),\n",
       " 'told': (1, [1]),\n",
       " 'was': (2, [0, 1]),\n",
       " 'with': (1, [1]),\n",
       " 'you': (1, [1])}"
      ]
     },
     "execution_count": 24,
     "metadata": {},
     "output_type": "execute_result"
    }
   ],
   "source": [
    "phrase_3 = {}\n",
    "\n",
    "for item in phrase_2:\n",
    "    term = item[0]\n",
    "    doc_id = item[1]\n",
    "    if term not in  phrase_3.keys():\n",
    "        phrase_3[term] = (1, [doc_id])\n",
    "        pass\n",
    "    else:        \n",
    "        number = phrase_3[term][0]\n",
    "        array = phrase_3[term][1]\n",
    "        if doc_id not in array:\n",
    "            array.append(doc_id)\n",
    "            phrase_3[term] = (number + 1, array)\n",
    "            pass        \n",
    "        pass \n",
    "    pass \n",
    "\n",
    "phrase_3"
   ]
  },
  {
   "cell_type": "code",
   "execution_count": null,
   "metadata": {},
   "outputs": [],
   "source": []
  }
 ],
 "metadata": {
  "kernelspec": {
   "display_name": "Python 3",
   "language": "python",
   "name": "python3"
  },
  "language_info": {
   "codemirror_mode": {
    "name": "ipython",
    "version": 3
   },
   "file_extension": ".py",
   "mimetype": "text/x-python",
   "name": "python",
   "nbconvert_exporter": "python",
   "pygments_lexer": "ipython3",
   "version": "3.9.4"
  },
  "orig_nbformat": 4
 },
 "nbformat": 4,
 "nbformat_minor": 2
}
